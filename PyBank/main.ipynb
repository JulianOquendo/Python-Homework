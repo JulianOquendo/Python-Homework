{
 "cells": [
  {
   "cell_type": "code",
   "execution_count": 34,
   "metadata": {},
   "outputs": [],
   "source": [
    "# Import The library\n",
    "import os\n",
    "import csv\n"
   ]
  },
  {
   "cell_type": "code",
   "execution_count": 35,
   "metadata": {},
   "outputs": [],
   "source": [
    "# Create Path\n",
    "budget_data = os.path.join(\"Resources\", \"budget_data.csv\")\n"
   ]
  },
  {
   "cell_type": "code",
   "execution_count": 38,
   "metadata": {},
   "outputs": [
    {
     "name": "stdout",
     "output_type": "stream",
     "text": [
      "Header: Date,Profit/Losses\n",
      "\n"
     ]
    }
   ],
   "source": [
    "# Open / Read CSV\n",
    "with open(budget_data, newline=\"\") as csvfile:\n",
    "    \n",
    "    # CSV Reader & Delimiter\n",
    "    csvreader = csv.reader(csvfile, delimiter=\",\")\n",
    "    \n",
    "    # CSV Header\n",
    "    csv_header = next(csvfile)\n",
    "    \n",
    "    # Header Row (Skipping for now)\n",
    "    print(f\"Header: {csv_header}\")\n",
    "\n",
    "    # Find Net PNL\n",
    "    months = []\n",
    "    P = []\n",
    "\n",
    "    # Read Thru Data (Excluding Header Row)\n",
    "    for rows in csvreader:\n",
    "        P.append(int(rows[1]))\n",
    "        months.append(rows[0])\n",
    "\n",
    "    # Find Revenue Change\n",
    "    revenue_change = []\n",
    "\n",
    "    for x in range(1, len(P)):\n",
    "        revenue_change.append((int(P[x]) - int(P[x-1])))\n",
    "    \n",
    "    # Calculate Revenue Change (Average)\n",
    "    revenue_average = sum(revenue_change) / len(revenue_change)\n",
    "\n",
    "    # Find Greatest Increase (Revenue)\n",
    "    greatest_increase = max(revenue_change)\n",
    "    \n",
    "    # Find Greatest Decrease (Revenue)\n",
    "    greatest_decrease = min(revenue_change)\n",
    "    \n",
    "    # Calculate Total Months\n",
    "    total_months = len(months)"
   ]
  },
  {
   "cell_type": "code",
   "execution_count": 42,
   "metadata": {},
   "outputs": [
    {
     "name": "stdout",
     "output_type": "stream",
     "text": [
      "Financial Analysis\n",
      "....................................................................................\n",
      "Total Months: 86\n",
      "Total: $38382578\n",
      "Average Change: $-2315.1176470588234\n",
      "Greatest Increase In Profits: Feb-12 $1926159\n",
      "Greatest Decrease In Profits: Sep-13 $-2196167\n"
     ]
    }
   ],
   "source": [
    "    print(\"Financial Analysis\")\n",
    "\n",
    "    print(\"....................................................................................\")\n",
    "\n",
    "    print(\"Total Months: \" + str(total_months))\n",
    "\n",
    "    print(\"Total: \" + \"$\" + str(sum(P)))\n",
    "\n",
    "    print(\"Average Change: \" + \"$\" + str(revenue_average))\n",
    "\n",
    "    print(\"Greatest Increase In Profits: \" + str(months[revenue_change.index(max(revenue_change))+1]) + \" \" + \"$\" + str(greatest_increase))\n",
    "\n",
    "    print(\"Greatest Decrease In Profits: \" + str(months[revenue_change.index(min(revenue_change))+1]) + \" \" + \"$\" + str(greatest_decrease))"
   ]
  },
  {
   "cell_type": "code",
   "execution_count": 46,
   "metadata": {},
   "outputs": [],
   "source": [
    "    # Output To a .txt File\n",
    "    \n",
    "    file = open(\"output.txt\",\"w\")\n",
    "\n",
    "    file.write(\"Financial Analysis\" + \"\\n\")\n",
    "\n",
    "    file.write(\"....................................................................................\" + \"\\n\")\n",
    "\n",
    "    file.write(\"total months: \" + str(total_months) + \"\\n\")\n",
    "\n",
    "    file.write(\"Total: \" + \"$\" + str(sum(P)) + \"\\n\")\n",
    "\n",
    "    file.write(\"Average change: \" + \"$\" + str(revenue_average) + \"\\n\")\n",
    "\n",
    "    file.write(\"Greatest Increase in Profits: \" + str(months[revenue_change.index(max(revenue_change))+1]) + \" \" + \"$\" + str(greatest_increase) + \"\\n\")\n",
    "\n",
    "    file.write(\"Greatest Decrease in Profits: \" + str(months[revenue_change.index(min(revenue_change))+1]) + \" \" + \"$\" + str(greatest_decrease) + \"\\n\")\n",
    "\n",
    "    file.close()"
   ]
  },
  {
   "cell_type": "code",
   "execution_count": null,
   "metadata": {},
   "outputs": [],
   "source": []
  }
 ],
 "metadata": {
  "kernelspec": {
   "display_name": "Python 3",
   "language": "python",
   "name": "python3"
  },
  "language_info": {
   "codemirror_mode": {
    "name": "ipython",
    "version": 3
   },
   "file_extension": ".py",
   "mimetype": "text/x-python",
   "name": "python",
   "nbconvert_exporter": "python",
   "pygments_lexer": "ipython3",
   "version": "3.7.6"
  }
 },
 "nbformat": 4,
 "nbformat_minor": 4
}
